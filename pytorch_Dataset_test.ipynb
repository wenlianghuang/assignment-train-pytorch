{
 "cells": [
  {
   "cell_type": "code",
   "execution_count": 1,
   "id": "101d0381",
   "metadata": {},
   "outputs": [],
   "source": [
    "import torch \n",
    "import numpy as np\n",
    "from torch.utils.data import Dataset, DataLoader"
   ]
  },
  {
   "cell_type": "code",
   "execution_count": 2,
   "id": "710d7a72",
   "metadata": {},
   "outputs": [],
   "source": [
    "class MyDataset(Dataset):\n",
    "    def __init__(self,x,y):\n",
    "        self.data = torch.from_numpy(x).float()\n",
    "        self.label = torch.LongTensor(y)\n",
    "    def __len__(self):\n",
    "        return len(self.data)\n",
    "    def __getitem__(self, idx):\n",
    "        return self.data[idx], self.label[idx]\n"
   ]
  },
  {
   "cell_type": "code",
   "execution_count": null,
   "id": "092401e2",
   "metadata": {},
   "outputs": [
    {
     "name": "stdout",
     "output_type": "stream",
     "text": [
      "len(TrainData): 3\n"
     ]
    }
   ],
   "source": [
    "Train_data = np.array([[1,2,3],[4,5,6],[7,8,9]])\n",
    "Train_label = np.array([0,1,2,])\n",
    "TrainData = MyDataset(Train_data,Train_label)\n",
    "print(f\"len(TrainData): {len(TrainData)}\")"
   ]
  },
  {
   "cell_type": "code",
   "execution_count": 5,
   "id": "48a4db37",
   "metadata": {},
   "outputs": [
    {
     "name": "stdout",
     "output_type": "stream",
     "text": [
      "batch_idx: 0, data: tensor([[4., 5., 6.],\n",
      "        [1., 2., 3.]]), label: tensor([1, 0])\n",
      "batch_idx: 1, data: tensor([[7., 8., 9.]]), label: tensor([2])\n"
     ]
    }
   ],
   "source": [
    "loader = torch.utils.data.DataLoader(\n",
    "    dataset=TrainData,\n",
    "    batch_size=2,\n",
    "    shuffle=True,\n",
    "    num_workers=0,\n",
    "    pin_memory=False,\n",
    "    drop_last=False\n",
    ")\n",
    "for batch_idx, (data, label) in enumerate(loader):\n",
    "    print(f\"batch_idx: {batch_idx}, data: {data}, label: {label}\")\n",
    "    if batch_idx == 1:\n",
    "        break"
   ]
  }
 ],
 "metadata": {
  "kernelspec": {
   "display_name": "pytorch_practice",
   "language": "python",
   "name": "python3"
  },
  "language_info": {
   "codemirror_mode": {
    "name": "ipython",
    "version": 3
   },
   "file_extension": ".py",
   "mimetype": "text/x-python",
   "name": "python",
   "nbconvert_exporter": "python",
   "pygments_lexer": "ipython3",
   "version": "3.12.10"
  }
 },
 "nbformat": 4,
 "nbformat_minor": 5
}
